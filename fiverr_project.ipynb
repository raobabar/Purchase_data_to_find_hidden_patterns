{
 "cells": [
  {
   "cell_type": "code",
   "execution_count": 1,
   "metadata": {
    "collapsed": true
   },
   "outputs": [],
   "source": [
    "import pandas as pd\n",
    "import numpy as np\n",
    "import matplotlib.pyplot as plt"
   ]
  },
  {
   "cell_type": "code",
   "execution_count": 2,
   "metadata": {
    "collapsed": true
   },
   "outputs": [],
   "source": [
    "df = pd.read_csv('purchase_data_exe.csv')"
   ]
  },
  {
   "cell_type": "code",
   "execution_count": 3,
   "metadata": {
    "collapsed": false
   },
   "outputs": [
    {
     "data": {
      "text/html": [
       "<div>\n",
       "<table border=\"1\" class=\"dataframe\">\n",
       "  <thead>\n",
       "    <tr style=\"text-align: right;\">\n",
       "      <th></th>\n",
       "      <th>date</th>\n",
       "      <th>customer_id</th>\n",
       "      <th>product_category</th>\n",
       "      <th>payment_method</th>\n",
       "      <th>value [USD]</th>\n",
       "      <th>time_on_site [Minutes]</th>\n",
       "      <th>clicks_in_site</th>\n",
       "      <th>Unnamed: 7</th>\n",
       "    </tr>\n",
       "  </thead>\n",
       "  <tbody>\n",
       "    <tr>\n",
       "      <th>0</th>\n",
       "      <td>20/11/2018</td>\n",
       "      <td>37077</td>\n",
       "      <td>505</td>\n",
       "      <td>credit</td>\n",
       "      <td>49.53</td>\n",
       "      <td>12.0</td>\n",
       "      <td>8</td>\n",
       "      <td>NaN</td>\n",
       "    </tr>\n",
       "    <tr>\n",
       "      <th>1</th>\n",
       "      <td>20/11/2018</td>\n",
       "      <td>59173</td>\n",
       "      <td>509</td>\n",
       "      <td>paypal</td>\n",
       "      <td>50.61</td>\n",
       "      <td>25.9</td>\n",
       "      <td>8</td>\n",
       "      <td>NaN</td>\n",
       "    </tr>\n",
       "    <tr>\n",
       "      <th>2</th>\n",
       "      <td>20/11/2018</td>\n",
       "      <td>41066</td>\n",
       "      <td>507</td>\n",
       "      <td>credit</td>\n",
       "      <td>85.99</td>\n",
       "      <td>34.9</td>\n",
       "      <td>11</td>\n",
       "      <td>NaN</td>\n",
       "    </tr>\n",
       "    <tr>\n",
       "      <th>3</th>\n",
       "      <td>20/11/2018</td>\n",
       "      <td>50741</td>\n",
       "      <td>506</td>\n",
       "      <td>credit</td>\n",
       "      <td>34.60</td>\n",
       "      <td>16.5</td>\n",
       "      <td>9</td>\n",
       "      <td>NaN</td>\n",
       "    </tr>\n",
       "    <tr>\n",
       "      <th>4</th>\n",
       "      <td>20/11/2018</td>\n",
       "      <td>53639</td>\n",
       "      <td>515</td>\n",
       "      <td>paypal</td>\n",
       "      <td>266.27</td>\n",
       "      <td>43.1</td>\n",
       "      <td>30</td>\n",
       "      <td>NaN</td>\n",
       "    </tr>\n",
       "  </tbody>\n",
       "</table>\n",
       "</div>"
      ],
      "text/plain": [
       "         date  customer_id  product_category payment_method  value [USD]  \\\n",
       "0  20/11/2018        37077               505         credit        49.53   \n",
       "1  20/11/2018        59173               509         paypal        50.61   \n",
       "2  20/11/2018        41066               507         credit        85.99   \n",
       "3  20/11/2018        50741               506         credit        34.60   \n",
       "4  20/11/2018        53639               515         paypal       266.27   \n",
       "\n",
       "   time_on_site [Minutes]  clicks_in_site  Unnamed: 7  \n",
       "0                    12.0               8         NaN  \n",
       "1                    25.9               8         NaN  \n",
       "2                    34.9              11         NaN  \n",
       "3                    16.5               9         NaN  \n",
       "4                    43.1              30         NaN  "
      ]
     },
     "execution_count": 3,
     "metadata": {},
     "output_type": "execute_result"
    }
   ],
   "source": [
    "df.head()"
   ]
  },
  {
   "cell_type": "code",
   "execution_count": 4,
   "metadata": {
    "collapsed": false
   },
   "outputs": [],
   "source": [
    "df.drop(['Unnamed: 7'], axis=1, inplace=True)"
   ]
  },
  {
   "cell_type": "code",
   "execution_count": 5,
   "metadata": {
    "collapsed": false
   },
   "outputs": [
    {
     "data": {
      "text/html": [
       "<div>\n",
       "<table border=\"1\" class=\"dataframe\">\n",
       "  <thead>\n",
       "    <tr style=\"text-align: right;\">\n",
       "      <th></th>\n",
       "      <th>date</th>\n",
       "      <th>customer_id</th>\n",
       "      <th>product_category</th>\n",
       "      <th>payment_method</th>\n",
       "      <th>value [USD]</th>\n",
       "      <th>time_on_site [Minutes]</th>\n",
       "      <th>clicks_in_site</th>\n",
       "    </tr>\n",
       "  </thead>\n",
       "  <tbody>\n",
       "    <tr>\n",
       "      <th>0</th>\n",
       "      <td>20/11/2018</td>\n",
       "      <td>37077</td>\n",
       "      <td>505</td>\n",
       "      <td>credit</td>\n",
       "      <td>49.53</td>\n",
       "      <td>12.0</td>\n",
       "      <td>8</td>\n",
       "    </tr>\n",
       "    <tr>\n",
       "      <th>1</th>\n",
       "      <td>20/11/2018</td>\n",
       "      <td>59173</td>\n",
       "      <td>509</td>\n",
       "      <td>paypal</td>\n",
       "      <td>50.61</td>\n",
       "      <td>25.9</td>\n",
       "      <td>8</td>\n",
       "    </tr>\n",
       "    <tr>\n",
       "      <th>2</th>\n",
       "      <td>20/11/2018</td>\n",
       "      <td>41066</td>\n",
       "      <td>507</td>\n",
       "      <td>credit</td>\n",
       "      <td>85.99</td>\n",
       "      <td>34.9</td>\n",
       "      <td>11</td>\n",
       "    </tr>\n",
       "    <tr>\n",
       "      <th>3</th>\n",
       "      <td>20/11/2018</td>\n",
       "      <td>50741</td>\n",
       "      <td>506</td>\n",
       "      <td>credit</td>\n",
       "      <td>34.60</td>\n",
       "      <td>16.5</td>\n",
       "      <td>9</td>\n",
       "    </tr>\n",
       "    <tr>\n",
       "      <th>4</th>\n",
       "      <td>20/11/2018</td>\n",
       "      <td>53639</td>\n",
       "      <td>515</td>\n",
       "      <td>paypal</td>\n",
       "      <td>266.27</td>\n",
       "      <td>43.1</td>\n",
       "      <td>30</td>\n",
       "    </tr>\n",
       "  </tbody>\n",
       "</table>\n",
       "</div>"
      ],
      "text/plain": [
       "         date  customer_id  product_category payment_method  value [USD]  \\\n",
       "0  20/11/2018        37077               505         credit        49.53   \n",
       "1  20/11/2018        59173               509         paypal        50.61   \n",
       "2  20/11/2018        41066               507         credit        85.99   \n",
       "3  20/11/2018        50741               506         credit        34.60   \n",
       "4  20/11/2018        53639               515         paypal       266.27   \n",
       "\n",
       "   time_on_site [Minutes]  clicks_in_site  \n",
       "0                    12.0               8  \n",
       "1                    25.9               8  \n",
       "2                    34.9              11  \n",
       "3                    16.5               9  \n",
       "4                    43.1              30  "
      ]
     },
     "execution_count": 5,
     "metadata": {},
     "output_type": "execute_result"
    }
   ],
   "source": [
    "df.head()"
   ]
  },
  {
   "cell_type": "code",
   "execution_count": 6,
   "metadata": {
    "collapsed": true
   },
   "outputs": [],
   "source": [
    "df['payment_method'] = df['payment_method'].astype('category').cat.codes\n",
    "#Now 0 represents credit and 1 represents paypal"
   ]
  },
  {
   "cell_type": "code",
   "execution_count": 7,
   "metadata": {
    "collapsed": false
   },
   "outputs": [],
   "source": [
    "df['payment_method'] = df['payment_method'].astype('int')"
   ]
  },
  {
   "cell_type": "code",
   "execution_count": 8,
   "metadata": {
    "collapsed": false
   },
   "outputs": [
    {
     "data": {
      "text/plain": [
       "date                       object\n",
       "customer_id                 int64\n",
       "product_category            int64\n",
       "payment_method              int32\n",
       "value [USD]               float64\n",
       "time_on_site [Minutes]    float64\n",
       "clicks_in_site              int64\n",
       "dtype: object"
      ]
     },
     "execution_count": 8,
     "metadata": {},
     "output_type": "execute_result"
    }
   ],
   "source": [
    "df.dtypes"
   ]
  },
  {
   "cell_type": "code",
   "execution_count": 9,
   "metadata": {
    "collapsed": false
   },
   "outputs": [],
   "source": [
    "from datetime import datetime\n",
    "\n",
    "#df['DateTime'] = pd.to_datetime(df['date'])\n",
    "df['Year']=[d.split('/')[2] for d in df.date]\n",
    "df['Month']=[d.split('/')[1] for d in df.date]\n",
    "df['Day']=[d.split('/')[0] for d in df.date]\n",
    "df.Year = df.Year.astype('int')\n",
    "df.Month = df.Month.astype('int')\n",
    "df.Day = df.Day.astype('int')\n",
    "df.drop(['date'], axis = 1, inplace= True)"
   ]
  },
  {
   "cell_type": "code",
   "execution_count": 10,
   "metadata": {
    "collapsed": false
   },
   "outputs": [
    {
     "data": {
      "text/html": [
       "<div>\n",
       "<table border=\"1\" class=\"dataframe\">\n",
       "  <thead>\n",
       "    <tr style=\"text-align: right;\">\n",
       "      <th></th>\n",
       "      <th>customer_id</th>\n",
       "      <th>product_category</th>\n",
       "      <th>payment_method</th>\n",
       "      <th>value [USD]</th>\n",
       "      <th>time_on_site [Minutes]</th>\n",
       "      <th>clicks_in_site</th>\n",
       "      <th>Year</th>\n",
       "      <th>Month</th>\n",
       "      <th>Day</th>\n",
       "    </tr>\n",
       "  </thead>\n",
       "  <tbody>\n",
       "    <tr>\n",
       "      <th>0</th>\n",
       "      <td>37077</td>\n",
       "      <td>505</td>\n",
       "      <td>0</td>\n",
       "      <td>49.53</td>\n",
       "      <td>12.0</td>\n",
       "      <td>8</td>\n",
       "      <td>2018</td>\n",
       "      <td>11</td>\n",
       "      <td>20</td>\n",
       "    </tr>\n",
       "    <tr>\n",
       "      <th>1</th>\n",
       "      <td>59173</td>\n",
       "      <td>509</td>\n",
       "      <td>1</td>\n",
       "      <td>50.61</td>\n",
       "      <td>25.9</td>\n",
       "      <td>8</td>\n",
       "      <td>2018</td>\n",
       "      <td>11</td>\n",
       "      <td>20</td>\n",
       "    </tr>\n",
       "    <tr>\n",
       "      <th>2</th>\n",
       "      <td>41066</td>\n",
       "      <td>507</td>\n",
       "      <td>0</td>\n",
       "      <td>85.99</td>\n",
       "      <td>34.9</td>\n",
       "      <td>11</td>\n",
       "      <td>2018</td>\n",
       "      <td>11</td>\n",
       "      <td>20</td>\n",
       "    </tr>\n",
       "    <tr>\n",
       "      <th>3</th>\n",
       "      <td>50741</td>\n",
       "      <td>506</td>\n",
       "      <td>0</td>\n",
       "      <td>34.60</td>\n",
       "      <td>16.5</td>\n",
       "      <td>9</td>\n",
       "      <td>2018</td>\n",
       "      <td>11</td>\n",
       "      <td>20</td>\n",
       "    </tr>\n",
       "    <tr>\n",
       "      <th>4</th>\n",
       "      <td>53639</td>\n",
       "      <td>515</td>\n",
       "      <td>1</td>\n",
       "      <td>266.27</td>\n",
       "      <td>43.1</td>\n",
       "      <td>30</td>\n",
       "      <td>2018</td>\n",
       "      <td>11</td>\n",
       "      <td>20</td>\n",
       "    </tr>\n",
       "  </tbody>\n",
       "</table>\n",
       "</div>"
      ],
      "text/plain": [
       "   customer_id  product_category  payment_method  value [USD]  \\\n",
       "0        37077               505               0        49.53   \n",
       "1        59173               509               1        50.61   \n",
       "2        41066               507               0        85.99   \n",
       "3        50741               506               0        34.60   \n",
       "4        53639               515               1       266.27   \n",
       "\n",
       "   time_on_site [Minutes]  clicks_in_site  Year  Month  Day  \n",
       "0                    12.0               8  2018     11   20  \n",
       "1                    25.9               8  2018     11   20  \n",
       "2                    34.9              11  2018     11   20  \n",
       "3                    16.5               9  2018     11   20  \n",
       "4                    43.1              30  2018     11   20  "
      ]
     },
     "execution_count": 10,
     "metadata": {},
     "output_type": "execute_result"
    }
   ],
   "source": [
    "df.head()"
   ]
  },
  {
   "cell_type": "code",
   "execution_count": 11,
   "metadata": {
    "collapsed": false
   },
   "outputs": [
    {
     "data": {
      "text/plain": [
       "customer_id                 int64\n",
       "product_category            int64\n",
       "payment_method              int32\n",
       "value [USD]               float64\n",
       "time_on_site [Minutes]    float64\n",
       "clicks_in_site              int64\n",
       "Year                        int32\n",
       "Month                       int32\n",
       "Day                         int32\n",
       "dtype: object"
      ]
     },
     "execution_count": 11,
     "metadata": {},
     "output_type": "execute_result"
    }
   ],
   "source": [
    "df.dtypes"
   ]
  },
  {
   "cell_type": "code",
   "execution_count": 15,
   "metadata": {
    "collapsed": false
   },
   "outputs": [
    {
     "data": {
      "image/png": "[encoded data removed]",
      "text/plain": [
       "<Figure size 432x288 with 1 Axes>"
      ]
     },
     "metadata": {},
     "output_type": "display_data"
    }
   ],
   "source": [
    "plt.hist(df.product_category, bins = 20)\n",
    "plt.xlabel(\"Product Category\")\n",
    "plt.ylabel(\"Frequency\")\n",
    "plt.show()"
   ]
  },
  {
   "cell_type": "code",
   "execution_count": 16,
   "metadata": {
    "collapsed": false
   },
   "outputs": [
    {
     "data": {
      "image/png": "[encoded data removed]",
      "text/plain": [
       "<Figure size 432x288 with 1 Axes>"
      ]
     },
     "metadata": {},
     "output_type": "display_data"
    }
   ],
   "source": [
    "plt.hist(df.payment_method, bins = 2)\n",
    "plt.xlabel(\"Payment Method\")\n",
    "plt.ylabel(\"Frequency\")\n",
    "plt.show()"
   ]
  },
  {
   "cell_type": "code",
   "execution_count": 17,
   "metadata": {
    "collapsed": false
   },
   "outputs": [
    {
     "data": {
      "image/png": "[encoded data removed]",
      "text/plain": [
       "<Figure size 432x288 with 1 Axes>"
      ]
     },
     "metadata": {},
     "output_type": "display_data"
    }
   ],
   "source": [
    "plt.scatter(x = df[\"clicks_in_site\"], y = df[\"value [USD]\"])\n",
    "plt.xlabel(\"Clicks in site\")\n",
    "plt.ylabel(\"Value in USD\")\n",
    "plt.show()"
   ]
  },
  {
   "cell_type": "code",
   "execution_count": 18,
   "metadata": {
    "collapsed": false
   },
   "outputs": [
    {
     "data": {
      "image/png": "[encoded data removed]",
      "text/plain": [
       "<Figure size 432x288 with 1 Axes>"
      ]
     },
     "metadata": {},
     "output_type": "display_data"
    }
   ],
   "source": [
    "plt.scatter(x = df[\"time_on_site [Minutes]\"], y = df[\"value [USD]\"])\n",
    "plt.xlabel(\"Time on Site in Minutes\")\n",
    "plt.ylabel(\"Value in USD\")\n",
    "plt.show()"
   ]
  },
  {
   "cell_type": "code",
   "execution_count": 19,
   "metadata": {
    "collapsed": false
   },
   "outputs": [
    {
     "data": {
      "image/png": "[encoded data removed]",
      "text/plain": [
       "<Figure size 432x288 with 1 Axes>"
      ]
     },
     "metadata": {},
     "output_type": "display_data"
    }
   ],
   "source": [
    "plt.scatter(x = df[\"payment_method\"], y = df[\"value [USD]\"])\n",
    "plt.xlabel(\"Payment Method\")\n",
    "plt.ylabel(\"Value in USD\")\n",
    "plt.show()"
   ]
  },
  {
   "cell_type": "code",
   "execution_count": 20,
   "metadata": {
    "collapsed": false
   },
   "outputs": [
    {
     "data": {
      "text/plain": [
       "payment_method\n",
       "0    210.364136\n",
       "1    193.487741\n",
       "Name: value [USD], dtype: float64"
      ]
     },
     "execution_count": 20,
     "metadata": {},
     "output_type": "execute_result"
    }
   ],
   "source": [
    "new=df.groupby(\"payment_method\")[\"value [USD]\"]\n",
    "new.mean()"
   ]
  },
  {
   "cell_type": "code",
   "execution_count": 21,
   "metadata": {
    "collapsed": false
   },
   "outputs": [
    {
     "data": {
      "image/png": "[encoded data removed]",
      "text/plain": [
       "<Figure size 432x288 with 1 Axes>"
      ]
     },
     "metadata": {},
     "output_type": "display_data"
    }
   ],
   "source": [
    "plt.scatter(x = df[\"product_category\"], y = df[\"value [USD]\"])\n",
    "plt.xlabel(\"Product Category\")\n",
    "plt.ylabel(\"Value in USD\")\n",
    "plt.show()"
   ]
  },
  {
   "cell_type": "code",
   "execution_count": 22,
   "metadata": {
    "collapsed": false
   },
   "outputs": [
    {
     "data": {
      "text/plain": [
       "product_category\n",
       "501    199.054377\n",
       "502    195.705785\n",
       "503    202.185715\n",
       "504    197.795738\n",
       "505    210.866029\n",
       "506    213.855764\n",
       "507    206.942325\n",
       "508    207.243236\n",
       "509    195.317299\n",
       "510    201.812917\n",
       "511    193.090283\n",
       "512    200.309036\n",
       "513    209.927803\n",
       "514    203.935415\n",
       "515    208.461937\n",
       "Name: value [USD], dtype: float64"
      ]
     },
     "execution_count": 22,
     "metadata": {},
     "output_type": "execute_result"
    }
   ],
   "source": [
    "new=df.groupby(\"product_category\")[\"value [USD]\"]\n",
    "new.mean()"
   ]
  },
  {
   "cell_type": "code",
   "execution_count": 23,
   "metadata": {
    "collapsed": false
   },
   "outputs": [],
   "source": [
    "#df.payment_method.plot(kind='bar')\n",
    "#plt.show()"
   ]
  },
  {
   "cell_type": "code",
   "execution_count": 24,
   "metadata": {
    "collapsed": false
   },
   "outputs": [
    {
     "data": {
      "text/plain": [
       "Day\n",
       "20     400931.17\n",
       "21     380325.39\n",
       "22     401496.13\n",
       "23    1884586.16\n",
       "24      63113.88\n",
       "25     391050.31\n",
       "26     400089.83\n",
       "27     368068.34\n",
       "28     400497.18\n",
       "29     390857.44\n",
       "Name: value [USD], dtype: float64"
      ]
     },
     "execution_count": 24,
     "metadata": {},
     "output_type": "execute_result"
    }
   ],
   "source": [
    "new=df.groupby(\"Day\")[\"value [USD]\"]\n",
    "new.sum()"
   ]
  },
  {
   "cell_type": "code",
   "execution_count": 25,
   "metadata": {
    "collapsed": true
   },
   "outputs": [],
   "source": [
    "#So, maximum earning was on 23 November 2018 and minimum was on 24 November 2018."
   ]
  },
  {
   "cell_type": "code",
   "execution_count": 26,
   "metadata": {
    "collapsed": false
   },
   "outputs": [
    {
     "data": {
      "text/html": [
       "<div>\n",
       "<table border=\"1\" class=\"dataframe\">\n",
       "  <thead>\n",
       "    <tr style=\"text-align: right;\">\n",
       "      <th></th>\n",
       "      <th>customer_id</th>\n",
       "      <th>product_category</th>\n",
       "      <th>payment_method</th>\n",
       "      <th>value [USD]</th>\n",
       "      <th>time_on_site [Minutes]</th>\n",
       "      <th>clicks_in_site</th>\n",
       "      <th>Year</th>\n",
       "      <th>Month</th>\n",
       "      <th>Day</th>\n",
       "    </tr>\n",
       "  </thead>\n",
       "  <tbody>\n",
       "    <tr>\n",
       "      <th>customer_id</th>\n",
       "      <td>1.000000</td>\n",
       "      <td>0.007768</td>\n",
       "      <td>0.007744</td>\n",
       "      <td>0.007141</td>\n",
       "      <td>-0.017763</td>\n",
       "      <td>0.001560</td>\n",
       "      <td>NaN</td>\n",
       "      <td>NaN</td>\n",
       "      <td>-0.012773</td>\n",
       "    </tr>\n",
       "    <tr>\n",
       "      <th>product_category</th>\n",
       "      <td>0.007768</td>\n",
       "      <td>1.000000</td>\n",
       "      <td>0.002057</td>\n",
       "      <td>0.004948</td>\n",
       "      <td>-0.001945</td>\n",
       "      <td>0.003303</td>\n",
       "      <td>NaN</td>\n",
       "      <td>NaN</td>\n",
       "      <td>0.003903</td>\n",
       "    </tr>\n",
       "    <tr>\n",
       "      <th>payment_method</th>\n",
       "      <td>0.007744</td>\n",
       "      <td>0.002057</td>\n",
       "      <td>1.000000</td>\n",
       "      <td>-0.040064</td>\n",
       "      <td>0.043544</td>\n",
       "      <td>-0.037943</td>\n",
       "      <td>NaN</td>\n",
       "      <td>NaN</td>\n",
       "      <td>0.073963</td>\n",
       "    </tr>\n",
       "    <tr>\n",
       "      <th>value [USD]</th>\n",
       "      <td>0.007141</td>\n",
       "      <td>0.004948</td>\n",
       "      <td>-0.040064</td>\n",
       "      <td>1.000000</td>\n",
       "      <td>0.042967</td>\n",
       "      <td>0.768820</td>\n",
       "      <td>NaN</td>\n",
       "      <td>NaN</td>\n",
       "      <td>-0.046736</td>\n",
       "    </tr>\n",
       "    <tr>\n",
       "      <th>time_on_site [Minutes]</th>\n",
       "      <td>-0.017763</td>\n",
       "      <td>-0.001945</td>\n",
       "      <td>0.043544</td>\n",
       "      <td>0.042967</td>\n",
       "      <td>1.000000</td>\n",
       "      <td>0.035003</td>\n",
       "      <td>NaN</td>\n",
       "      <td>NaN</td>\n",
       "      <td>0.418273</td>\n",
       "    </tr>\n",
       "    <tr>\n",
       "      <th>clicks_in_site</th>\n",
       "      <td>0.001560</td>\n",
       "      <td>0.003303</td>\n",
       "      <td>-0.037943</td>\n",
       "      <td>0.768820</td>\n",
       "      <td>0.035003</td>\n",
       "      <td>1.000000</td>\n",
       "      <td>NaN</td>\n",
       "      <td>NaN</td>\n",
       "      <td>-0.033241</td>\n",
       "    </tr>\n",
       "    <tr>\n",
       "      <th>Year</th>\n",
       "      <td>NaN</td>\n",
       "      <td>NaN</td>\n",
       "      <td>NaN</td>\n",
       "      <td>NaN</td>\n",
       "      <td>NaN</td>\n",
       "      <td>NaN</td>\n",
       "      <td>NaN</td>\n",
       "      <td>NaN</td>\n",
       "      <td>NaN</td>\n",
       "    </tr>\n",
       "    <tr>\n",
       "      <th>Month</th>\n",
       "      <td>NaN</td>\n",
       "      <td>NaN</td>\n",
       "      <td>NaN</td>\n",
       "      <td>NaN</td>\n",
       "      <td>NaN</td>\n",
       "      <td>NaN</td>\n",
       "      <td>NaN</td>\n",
       "      <td>NaN</td>\n",
       "      <td>NaN</td>\n",
       "    </tr>\n",
       "    <tr>\n",
       "      <th>Day</th>\n",
       "      <td>-0.012773</td>\n",
       "      <td>0.003903</td>\n",
       "      <td>0.073963</td>\n",
       "      <td>-0.046736</td>\n",
       "      <td>0.418273</td>\n",
       "      <td>-0.033241</td>\n",
       "      <td>NaN</td>\n",
       "      <td>NaN</td>\n",
       "      <td>1.000000</td>\n",
       "    </tr>\n",
       "  </tbody>\n",
       "</table>\n",
       "</div>"
      ],
      "text/plain": [
       "                        customer_id  product_category  payment_method  \\\n",
       "customer_id                1.000000          0.007768        0.007744   \n",
       "product_category           0.007768          1.000000        0.002057   \n",
       "payment_method             0.007744          0.002057        1.000000   \n",
       "value [USD]                0.007141          0.004948       -0.040064   \n",
       "time_on_site [Minutes]    -0.017763         -0.001945        0.043544   \n",
       "clicks_in_site             0.001560          0.003303       -0.037943   \n",
       "Year                            NaN               NaN             NaN   \n",
       "Month                           NaN               NaN             NaN   \n",
       "Day                       -0.012773          0.003903        0.073963   \n",
       "\n",
       "                        value [USD]  time_on_site [Minutes]  clicks_in_site  \\\n",
       "customer_id                0.007141               -0.017763        0.001560   \n",
       "product_category           0.004948               -0.001945        0.003303   \n",
       "payment_method            -0.040064                0.043544       -0.037943   \n",
       "value [USD]                1.000000                0.042967        0.768820   \n",
       "time_on_site [Minutes]     0.042967                1.000000        0.035003   \n",
       "clicks_in_site             0.768820                0.035003        1.000000   \n",
       "Year                            NaN                     NaN             NaN   \n",
       "Month                           NaN                     NaN             NaN   \n",
       "Day                       -0.046736                0.418273       -0.033241   \n",
       "\n",
       "                        Year  Month       Day  \n",
       "customer_id              NaN    NaN -0.012773  \n",
       "product_category         NaN    NaN  0.003903  \n",
       "payment_method           NaN    NaN  0.073963  \n",
       "value [USD]              NaN    NaN -0.046736  \n",
       "time_on_site [Minutes]   NaN    NaN  0.418273  \n",
       "clicks_in_site           NaN    NaN -0.033241  \n",
       "Year                     NaN    NaN       NaN  \n",
       "Month                    NaN    NaN       NaN  \n",
       "Day                      NaN    NaN  1.000000  "
      ]
     },
     "execution_count": 26,
     "metadata": {},
     "output_type": "execute_result"
    }
   ],
   "source": [
    "df.corr()"
   ]
  },
  {
   "cell_type": "code",
   "execution_count": null,
   "metadata": {
    "collapsed": true
   },
   "outputs": [],
   "source": []
  }
 ],
 "metadata": {
  "kernelspec": {
   "display_name": "Python [conda env:Anaconda3]",
   "language": "python",
   "name": "conda-env-Anaconda3-py"
  },
  "language_info": {
   "codemirror_mode": {
    "name": "ipython",
    "version": 3
   },
   "file_extension": ".py",
   "mimetype": "text/x-python",
   "name": "python",
   "nbconvert_exporter": "python",
   "pygments_lexer": "ipython3",
   "version": "3.5.2"
  }
 },
 "nbformat": 4,
 "nbformat_minor": 2
}
